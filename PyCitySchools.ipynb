{
 "cells": [
  {
   "cell_type": "code",
   "execution_count": 1,
   "id": "f36b0607",
   "metadata": {},
   "outputs": [
    {
     "name": "stdout",
     "output_type": "stream",
     "text": [
      " Volume in drive C is OS\n",
      " Volume Serial Number is EC16-0577\n",
      "\n",
      " Directory of C:\\Users\\disaa\\pandas-challenge\n",
      "\n",
      "07/19/2021  11:55 PM    <DIR>          .\n",
      "07/19/2021  11:55 PM    <DIR>          ..\n",
      "07/19/2021  11:51 PM                66 .gitattributes\n",
      "07/19/2021  11:55 PM    <DIR>          .ipynb_checkpoints\n",
      "07/19/2021  11:51 PM                21 README.md\n",
      "07/19/2021  11:55 PM                 0 untitled\n",
      "07/19/2021  11:55 PM                72 Untitled.ipynb\n",
      "               4 File(s)            159 bytes\n",
      "               3 Dir(s)  174,892,535,808 bytes free\n"
     ]
    }
   ],
   "source": [
    "ls"
   ]
  },
  {
   "cell_type": "code",
   "execution_count": 2,
   "id": "266c7ce1",
   "metadata": {},
   "outputs": [],
   "source": [
    "mkdir PyCitySchools"
   ]
  },
  {
   "cell_type": "code",
   "execution_count": null,
   "id": "e9db67a0",
   "metadata": {},
   "outputs": [],
   "source": []
  }
 ],
 "metadata": {
  "kernelspec": {
   "display_name": "Python 3",
   "language": "python",
   "name": "python3"
  },
  "language_info": {
   "codemirror_mode": {
    "name": "ipython",
    "version": 3
   },
   "file_extension": ".py",
   "mimetype": "text/x-python",
   "name": "python",
   "nbconvert_exporter": "python",
   "pygments_lexer": "ipython3",
   "version": "3.8.8"
  }
 },
 "nbformat": 4,
 "nbformat_minor": 5
}
